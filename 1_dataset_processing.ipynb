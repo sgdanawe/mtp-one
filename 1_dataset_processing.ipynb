{
 "cells": [
  {
   "cell_type": "code",
   "execution_count": 1,
   "metadata": {
    "collapsed": true,
    "pycharm": {
     "name": "#%%\n"
    }
   },
   "outputs": [],
   "source": [
    "import pandas as pd\n",
    "from io import StringIO\n",
    "import progressbar"
   ]
  },
  {
   "cell_type": "code",
   "execution_count": 16,
   "outputs": [],
   "source": [
    "data = open(\"data/webis-smc-12.txt\").read().split(\n",
    "    \"-----------------------------------------------------------------------------------------------------------------------------------------\")\n",
    "dfs = []\n",
    "for dt in data[1:]:\n",
    "    dt = dt.strip()\n",
    "    df = pd.read_csv(StringIO(dt), header=None, delimiter=\"\\t\",\n",
    "                     names=[\"UserID\", \"Query\", \"TimeStamp\", \"ClickRank\", \"ClickDomain\", \"MissionID\", \"Comment\"])\n",
    "    dfs.append(df)\n",
    "df = pd.concat(dfs)[[\"UserID\", \"Query\", \"MissionID\"]].drop_duplicates().reset_index(drop=True)"
   ],
   "metadata": {
    "collapsed": false,
    "pycharm": {
     "name": "#%%\n"
    }
   }
  },
  {
   "cell_type": "code",
   "execution_count": 17,
   "outputs": [],
   "source": [
    "df.to_csv(\"data/raw_processed.csv\", index=False)"
   ],
   "metadata": {
    "collapsed": false,
    "pycharm": {
     "name": "#%%\n"
    }
   }
  },
  {
   "cell_type": "code",
   "execution_count": 18,
   "outputs": [
    {
     "name": "stdout",
     "output_type": "stream",
     "text": [
      "        UserID                                   Query  MissionID\n",
      "0        38534                   maryland state police          1\n",
      "1        38534                  harford county sheriff          1\n",
      "2        38534  aberdeen police department in maryland          1\n",
      "3        38534                                   goody          2\n",
      "4        38534                                  google          3\n",
      "...        ...                                     ...        ...\n",
      "3868  24280778           bellevue psychiatric hospital          2\n",
      "3869  24579687                                  nudehu          1\n",
      "3870  24579687                             craigs list          2\n",
      "3871  24579687                                    maps          3\n",
      "3872  24797984                       fw signs from god          1\n",
      "\n",
      "[3873 rows x 3 columns]\n"
     ]
    }
   ],
   "source": [
    "print(df)"
   ],
   "metadata": {
    "collapsed": false,
    "pycharm": {
     "name": "#%%\n"
    }
   }
  },
  {
   "cell_type": "code",
   "execution_count": 30,
   "outputs": [
    {
     "name": "stderr",
     "output_type": "stream",
     "text": [
      "IOPub data rate exceeded.=============================================== ]  99%\n",
      "The notebook server will temporarily stop sending output\n",
      "to the client in order to avoid crashing it.\n",
      "To change this limit, set the config variable\n",
      "`--NotebookApp.iopub_data_rate_limit`.\n",
      "\n",
      "Current values:\n",
      "NotebookApp.iopub_data_rate_limit=1000000.0 (bytes/sec)\n",
      "NotebookApp.rate_limit_window=3.0 (secs)\n",
      "\n"
     ]
    }
   ],
   "source": [
    "data = []\n",
    "df_one = df.copy()\n",
    "df_two = df.copy()\n",
    "bar = progressbar.ProgressBar(maxval=100,\n",
    "                              widgets=[progressbar.Bar('=', '[', ']'), ' ', progressbar.Percentage()])\n",
    "bar.start()\n",
    "\n",
    "for idx_one, row_one in df_one.iterrows():\n",
    "    bar.update(idx_one * 100 / len(df_one))\n",
    "    for idx_two, row_two in df_two.iterrows():\n",
    "        if row_one[\"UserID\"] == row_two[\"UserID\"] and row_one[\"MissionID\"] == row_two[\"MissionID\"]:\n",
    "            if row_one[\"Query\"] != row_two[\"Query\"]:\n",
    "                data.append({\"query_one\": row_one[\"Query\"], \"query_two\": row_two[\"Query\"], \"same_intent\": True})\n",
    "        else:\n",
    "            query_one = row_one[\"Query\"]\n",
    "            query_two = row_two[\"Query\"]\n",
    "            common = set(query_one.lower().split()).intersection(set(query_two.lower().split()))\n",
    "            if len(common) >= 2:\n",
    "                data.append({\"query_one\": query_one, \"query_two\": query_two, \"same_intent\": False})\n",
    "print(data)"
   ],
   "metadata": {
    "collapsed": false,
    "pycharm": {
     "name": "#%%\n"
    }
   }
  },
  {
   "cell_type": "code",
   "execution_count": 31,
   "outputs": [],
   "source": [
    "df_out = pd.DataFrame(data).drop_duplicates()\n",
    "df_out.to_csv(\"data/final_no_dups.csv\",index=False)"
   ],
   "metadata": {
    "collapsed": false,
    "pycharm": {
     "name": "#%%\n"
    }
   }
  },
  {
   "cell_type": "code",
   "execution_count": 7,
   "outputs": [],
   "source": [
    "df = pd.read_csv(\"data/final_no_dups.csv\")\n",
    "unique_queries = list(set(list(df[\"query_one\"])).intersection(set(list(df[\"query_two\"]))))"
   ],
   "metadata": {
    "collapsed": false,
    "pycharm": {
     "name": "#%%\n"
    }
   }
  },
  {
   "cell_type": "code",
   "execution_count": null,
   "outputs": [],
   "source": [
    "unique_queries"
   ],
   "metadata": {
    "collapsed": false,
    "pycharm": {
     "name": "#%%\n"
    }
   }
  },
  {
   "cell_type": "code",
   "execution_count": 11,
   "outputs": [],
   "source": [
    "f  = open(\"data/queries.csv\",\"w+\")\n",
    "for query in unique_queries:\n",
    "    f.write(query+\"\\n\")\n",
    "f.close()"
   ],
   "metadata": {
    "collapsed": false,
    "pycharm": {
     "name": "#%%\n"
    }
   }
  },
  {
   "cell_type": "code",
   "execution_count": 2,
   "outputs": [
    {
     "name": "stderr",
     "output_type": "stream",
     "text": [
      "[                                                                        ]   0%\r"
     ]
    },
    {
     "name": "stdout",
     "output_type": "stream",
     "text": [
      "Query: where to buy little penguin wine failed\n",
      "Query: limewire 4.3 failed\n"
     ]
    },
    {
     "name": "stderr",
     "output_type": "stream",
     "text": [
      "[                                                                        ]   1%\r"
     ]
    },
    {
     "name": "stdout",
     "output_type": "stream",
     "text": [
      "Query: how to pass urine drug test failed\n",
      "Query: the star that destroyed us all lyrics failed\n",
      "Query: co founder of the yippies failed\n",
      "Query: red curant bath votivo gift sets failed\n",
      "Query: monster truck clip failed\n",
      "Query: carla cioni failed\n",
      "Query: prognosis of invasive ductal carcinoma grade 3 failed\n",
      "Query: jigsaw puzzles free download failed\n",
      "Query: mad cow sports failed\n",
      "Query: classfactory annot supply requested classs failed\n",
      "Query: petition failed\n",
      "Query: plan b history timeline failed\n",
      "Query: american idol failed\n",
      "Query: alec guiness in 1973 film failed\n",
      "Query: visa gift cards failed\n",
      "Query: gleevec failed\n",
      "Query: sara dogs for the disabled failed\n",
      "Query: ufc championchip failed\n",
      "Query: star wars cards for sale failed\n",
      "Query: la quinta inn & suites in ocala flordai failed\n",
      "Query: global payments network failed\n",
      "Query: cmkm diamonds failed\n",
      "Query: carolyn clark failed\n",
      "Query: free biorhyms software failed\n",
      "Query: juglone and viburnums failed\n",
      "Query: maneuverability cone placement ohio failed\n",
      "Query: westhroid failed\n",
      "Query: what can i salvage rolls of parchment from failed\n",
      "Query: spartanburg county detention center failed\n",
      "Query: multilist failed\n",
      "Query: treanor william failed\n",
      "Query: gerondales failed\n",
      "Query: citalopram failed\n"
     ]
    },
    {
     "name": "stderr",
     "output_type": "stream",
     "text": [
      "[=                                                                       ]   2%\r"
     ]
    },
    {
     "name": "stdout",
     "output_type": "stream",
     "text": [
      "Query: bellachase in dallas failed\n",
      "Query: mounting and dismounting tires fast failed\n",
      "Query: duke heiress failed\n",
      "Query: alcohol stimulant or depessant failed\n",
      "Query: fort bragg murders in 2004 failed\n",
      "Query: natives of kodiak alaska failed\n",
      "Query: miniture pincher failed\n",
      "Query: big bra failed\n",
      "Query: first community credit union st. louis mo failed\n",
      "Query: milo gordon lawton oklahoma failed\n",
      "Query: dusti's passions page failed\n",
      "Query: escorts by zip code chicago anal failed\n",
      "Query: milkkmanbook failed\n",
      "Query: israel houghton failed\n",
      "Query: gay farm lovin failed\n",
      "Query: stacy keibler failed\n",
      "Query: mind playing tricks on me lyircs failed\n",
      "Query: si failed\n",
      "Query: the lyrics to the waiting to exhale soundtrack failed\n",
      "Query: brown rice divertidulitis failed\n",
      "Query: history encyclopedia failed\n",
      "Query: sas institute failed\n",
      "Query: volcanoes in france failed\n",
      "Query: neurontin failed\n",
      "Query: hammond square mall failed\n",
      "Query: ucla basketball failed\n",
      "Query: l & l barbeque restaurants in san jose ca failed\n",
      "Query: el tiempo latino failed\n",
      "Query: faster dailup failed\n",
      "Query: polo beach club unit 108 failed\n",
      "Query: belleek bride and groom failed\n",
      "Query: wheel ift tow hitch failed\n",
      "Query: the houstonian failed\n"
     ]
    },
    {
     "name": "stderr",
     "output_type": "stream",
     "text": [
      "[==                                                                      ]   3%\r"
     ]
    },
    {
     "name": "stdout",
     "output_type": "stream",
     "text": [
      "Query: polynesian tattoos pictures failed\n",
      "Query: naval air station kefalvek failed\n",
      "Query: belly danza don omar lyrics failed\n",
      "Query: rieki praticitioners in lansing michigan failed\n",
      "Query: what is ridin dirty failed\n",
      "Query: contact lens solution pulled failed\n",
      "Query: raritan engineering failed\n",
      "Query: white pages failed\n",
      "Query: inventions in 1800-1820 failed\n",
      "Query: polo beach club condo 101 failed\n",
      "Query: wincheser mystery house failed\n",
      "Query: abraham linconl sigend the emancipation of proclamatons failed\n",
      "Query: christmas tree growers missouri failed\n",
      "Query: elder scrolls oblivion hints failed\n",
      "Query: clothing stores failed\n",
      "Query: i was born to say i love you lyrics failed\n",
      "Query: fredricks of hollywood failed\n",
      "Query: creighton university failed\n",
      "Query: university of phoenix failed\n",
      "Query: dismounting tires failed\n",
      "Query: tampa tribune failed\n",
      "Query: north vietmanese nobel piece prize 1973 failed\n",
      "Query: johnny carrino's restaurant failed\n",
      "Query: doityourself landscape failed\n",
      "Query: big boobs no credit card failed\n",
      "Query: ocean front homes for sale failed\n",
      "Query: symptoms of enlarged turbinates failed\n",
      "Query: beat of my heart lyrics failed\n",
      "Query: hack myspace failed\n",
      "Query: florida department of corrections failed\n",
      "Query: a lion represents what traits failed\n",
      "Query: mens masturbation toys failed\n",
      "Query: streets maps failed\n"
     ]
    },
    {
     "name": "stderr",
     "output_type": "stream",
     "text": [
      "[==                                                                      ]   4%\r"
     ]
    },
    {
     "name": "stdout",
     "output_type": "stream",
     "text": [
      "Query: port authority of ny and nj bus information failed\n",
      "Query: palos verdes marathon results failed\n",
      "Query: local stone cutters failed\n",
      "Query: projo failed\n",
      "Query: bob stovesand andsons failed\n",
      "Query: houston hotels failed\n",
      "Query: aol calendar failed\n",
      "Query: best friends failed\n",
      "Query: age aint nuthing but a number lyrics failed\n",
      "Query: hollywood theater failed\n",
      "Query: illinois female escorts by zip code failed\n",
      "Query: winston conty ms failed\n",
      "Query: americanexpress account summary failed\n",
      "Query: yuzpe regimen failed\n",
      "Query: los angeles potteries failed\n",
      "Query: cmkm task force failed\n",
      "Query: song lyrics failed\n",
      "Query: k 40 failed\n",
      "Query: missions failed\n",
      "Query: san jose mercury news classifieds failed\n",
      "Query: cheap escort services illinois chicago failed\n",
      "Query: pokecornor failed\n",
      "Query: american bapist churches failed\n",
      "Query: hawaii solider murders fort bragg first sergeant failed\n",
      "Query: wich one is the cheapest state to buy a house failed\n",
      "Query: free titty fuck download movies failed\n",
      "Query: knockoutlockout failed\n",
      "Query: self realization center bath michigan failed\n",
      "Query: travels in neopia single cards for sale failed\n",
      "Query: cheap escort services illinois failed\n",
      "Query: power wheelchairs driven by puff failed\n",
      "Query: jarhead failed\n",
      "Query: how is cocaine sold failed\n"
     ]
    },
    {
     "name": "stderr",
     "output_type": "stream",
     "text": [
      "[===                                                                     ]   5%\r"
     ]
    },
    {
     "name": "stdout",
     "output_type": "stream",
     "text": [
      "Query: introduction to programming failed\n",
      "Query: autobiographer of speak memory 1951 failed\n",
      "Query: gamestop failed\n",
      "Query: national gheoghraphy bee failed\n",
      "Query: houses for rent in liberty sc failed\n",
      "Query: ipods failed\n",
      "Query: childrens electronic homework scheduler failed\n",
      "Query: new york vehicle and traffic laws failed\n",
      "Query: american cancer institute failed\n",
      "Query: cobra health plans failed\n",
      "Query: band of brothers schwimmer failed\n",
      "Query: usgs california failed\n",
      "Query: zen garden failed\n",
      "Query: scotts speedygreen 3000 failed\n",
      "Query: free full porn movie downloads failed\n",
      "Query: home depo failed\n",
      "Query: free music downloads failed\n",
      "Query: cleveland city cemetery white county georgia failed\n",
      "Query: super shuttle van failed\n",
      "Query: b b king failed\n",
      "Query: san diego jr theatre failed\n",
      "Query: college basketball scores failed\n",
      "Query: monstr in a wheelchair failed\n",
      "Query: what is a heart murmur failed\n",
      "Query: southwest airlines failed\n",
      "Query: bradco equipment co. failed\n",
      "Query: maps canada failed\n",
      "Query: my heart beats in break downs lyrics failed\n",
      "Query: phone number to aol failed\n",
      "Query: guido renza failed\n",
      "Query: waterplant jobs failed\n",
      "Query: joe jost's long beach california failed\n",
      "Query: chevron wheel lift parts failed\n"
     ]
    },
    {
     "name": "stderr",
     "output_type": "stream",
     "text": [
      "[====                                                                    ]   6%\r"
     ]
    },
    {
     "name": "stdout",
     "output_type": "stream",
     "text": [
      "Query: mob hits doo wop failed\n",
      "Query: puy de dome failed\n",
      "Query: chicagoland cheap escorts failed\n",
      "Query: america is just a word but i use it. failed\n",
      "Query: terry grantham fishing tournament failed\n",
      "Query: mcdonalds all american highschool basketball games failed\n",
      "Query: polish chickens failed\n",
      "Query: big boobies photos failed\n",
      "Query: chatham county jail failed\n",
      "Query: federal tax forms failed\n",
      "Query: tom munks failed\n",
      "Query: easton courier newspaper failed\n",
      "Query: tinley park pennysaver classifieds failed\n",
      "Query: teen poems failed\n",
      "Query: annum compounded interest failed\n",
      "Query: abbott laboratories failed\n",
      "Query: she said take this pen and write me soon lyrics failed\n",
      "Query: mixing same with ssri's failed\n",
      "Query: antispyware failed\n",
      "Query: jennycrieg locations failed\n",
      "Query: victorias secret failed\n",
      "Query: nbadraftnet failed\n",
      "Query: beans about cooking failed\n",
      "Query: i learn by going where i have to go failed\n",
      "Query: print shop demo failed\n",
      "Query: porterhouse failed\n",
      "Query: symantec failed\n",
      "Query: symantic failed\n",
      "Query: cobassani failed\n",
      "Query: aol playlist failed\n",
      "Query: windows media 10 failed\n",
      "Query: morrowind enchanted weapons failed\n",
      "Query: huntington learning center failed\n"
     ]
    },
    {
     "name": "stderr",
     "output_type": "stream",
     "text": [
      "[=====                                                                   ]   7%\r"
     ]
    },
    {
     "name": "stdout",
     "output_type": "stream",
     "text": [
      "Query: transact sql failed\n",
      "Query: end of school year failed\n",
      "Query: jesse's daffodils failed\n",
      "Query: yellow pages failed\n",
      "Query: sexuality and religion failed\n",
      "Query: ohio high school softball failed\n",
      "Query: dirtymind failed\n",
      "Query: the nyack seaport failed\n",
      "Query: chevy trucks failed\n",
      "Query: gaylord texasn failed\n",
      "Query: american tv and appliance appleton failed\n",
      "Query: spokane obituary failed\n",
      "Query: k failed\n",
      "Query: adam4adam failed\n",
      "Query: mortgage jobs st. louis failed\n",
      "Query: nas failed\n",
      "Query: long beach cabrillo high school failed\n",
      "Query: female escorts in chicago failed\n",
      "Query: neurontin to treat anxiety failed\n",
      "Query: lisa atalida failed\n",
      "Query: how is cocaine distributed failed\n",
      "Query: elko speedway elko mn. failed\n",
      "Query: onerepublic lyrics failed\n",
      "Query: financing for bowflex failed\n",
      "Query: pokedex list failed\n",
      "Query: drip programs failed\n",
      "Query: final four failed\n",
      "Query: luther lincoln mercury failed\n",
      "Query: symptoms of pressure one sided at the temple failed\n",
      "Query: south carolina educational lottery failed\n",
      "Query: volcanoe types failed\n",
      "Query: names of pharmaceutal companys in pa. failed\n",
      "Query: what are the separate male and female flowers on a corn plant failed\n"
     ]
    },
    {
     "name": "stderr",
     "output_type": "stream",
     "text": [
      "[=====                                                                   ]   8%\r"
     ]
    },
    {
     "name": "stdout",
     "output_type": "stream",
     "text": [
      "Query: calculate the sample size failed\n",
      "Query: stocking sex failed\n",
      "Query: zion national park failed\n",
      "Query: symptoms of pressure in the palate failed\n",
      "Query: bicycle playing cards failed\n",
      "Query: isuzu rodeo failed\n",
      "Query: ojitos chiquititos don omar lyrics failed\n",
      "Query: map of north carolina failed\n",
      "Query: hixon gracie failed\n",
      "Query: loansharking points failed\n",
      "Query: copy porn pics failed\n",
      "Query: titty fucking mpegs failed\n",
      "Query: biggie smalls failed\n",
      "Query: ohio river levels failed\n",
      "Query: soprano failed\n",
      "Query: touch it by busta rhymes lyrics failed\n",
      "Query: habitat of doves failed\n",
      "Query: national cnn news on coffee & heart attacks for 2006 failed\n",
      "Query: san benito county california failed\n",
      "Query: fort bragg man found in buried in back yard failed\n",
      "Query: ea games failed\n",
      "Query: paint basque failed\n",
      "Query: stella supreme daylily failed\n",
      "Query: cruciate ligament injury failed\n",
      "Query: deal or no deal failed\n",
      "Query: model homes jobs failed\n",
      "Query: sink florida sink failed\n",
      "Query: teeth like god's shoeshine lyrics failed\n",
      "Query: wamasso fl failed\n",
      "Query: pitcures of doris duke failed\n",
      "Query: sc goegraphic bee failed\n",
      "Query: titanics grand staircase sinking failed\n",
      "Query: reltors in frisco texas failed\n"
     ]
    },
    {
     "name": "stderr",
     "output_type": "stream",
     "text": [
      "[======                                                                  ]   9%\r"
     ]
    },
    {
     "name": "stdout",
     "output_type": "stream",
     "text": [
      "Query: bowen family in georgia failed\n",
      "Query: animal sex failed\n",
      "Query: photos fore pursuit force failed\n",
      "Query: moss remover failed\n",
      "Query: cheap chicago escorts failed\n",
      "Query: boris bagdaserian d.o. failed\n",
      "Query: supplementing l-tyrosine failed\n",
      "Query: meyer development corporation failed\n",
      "Query: map quest failed\n",
      "Query: south carolina inmate search failed\n",
      "Query: alize failed\n",
      "Query: tri state master gardening conference and iowa state university failed\n",
      "Query: rca dome failed\n",
      "Query: new orleans saints football failed\n",
      "Query: trialoffer hellodirect failed\n",
      "Query: george mason failed\n",
      "Query: hot coffee failed\n",
      "Query: remax real estate failed\n",
      "Query: when will alli be available over the counter failed\n",
      "Query: lavender and lemonaide failed\n",
      "Query: salsa lessons at buzz chicago failed\n",
      "Query: nissan failed\n",
      "Query: uses for spleen concentrate failed\n",
      "Query: the solana club failed\n",
      "Query: classracer failed\n",
      "Query: bowen family of pickens county sc. failed\n",
      "Query: books a million failed\n",
      "Query: catholic gifts failed\n",
      "Query: pinkpoo failed\n",
      "Query: sas training failed\n",
      "Query: the authority song failed\n",
      "Query: winners pizza failed\n",
      "Query: new orleans zoo failed\n"
     ]
    },
    {
     "name": "stderr",
     "output_type": "stream",
     "text": [
      "[=======                                                                 ]  10%\r"
     ]
    },
    {
     "name": "stdout",
     "output_type": "stream",
     "text": [
      "Query: a.silvestri company failed\n",
      "Query: plate searches failed\n",
      "Query: workout 19 scarsdale new york failed\n",
      "Query: sohcahtoa failed\n",
      "Query: long beach school district failed\n",
      "Query: firewall failed\n",
      "Query: free anal mpegs galleries failed\n",
      "Query: pool supplies failed\n",
      "Query: citgo failed\n",
      "Query: lands end failed\n",
      "Query: super yellow pages failed\n",
      "Query: the last song lyrics failed\n",
      "Query: suv hybrids failed\n",
      "Query: newdealusedcars failed\n",
      "Query: suntrust banks mastercard gift card failed\n",
      "Query: dierks bentley lyrics failed\n",
      "Query: nashvillestar failed\n",
      "Query: apartments in lawton oklahoma failed\n",
      "Query: juicy couture failed\n",
      "Query: the weather channel failed\n",
      "Query: racine journal times failed\n",
      "Query: eggs failed\n",
      "Query: oxalis and house plant failed\n",
      "Query: horses failed\n",
      "Query: doityourselflandscape failed\n",
      "Query: wulong for life failed\n",
      "Query: thai food restaurant restaurants in the bay areaa failed\n",
      "Query: pinkpoodlo failed\n",
      "Query: people pc online failed\n",
      "Query: cocaine research failed\n",
      "Query: arcadia storage phoenix failed\n",
      "Query: penis masturbation failed\n",
      "Query: lori cioni failed\n"
     ]
    },
    {
     "name": "stderr",
     "output_type": "stream",
     "text": [
      "[========                                                                ]  11%\r"
     ]
    },
    {
     "name": "stdout",
     "output_type": "stream",
     "text": [
      "Query: econolodge i-95 1952 cedar creek road fayetteville nc failed\n",
      "Query: 73 indicted for racketeering bronx 2002 failed\n",
      "Query: catalina larranaga failed\n",
      "Query: dean gobo failed\n",
      "Query: don knotts failed\n",
      "Query: revereware branson failed\n",
      "Query: ssri failed\n",
      "Query: meatload recipe failed\n",
      "Query: sicillians failed\n",
      "Query: jewlery stores failed\n",
      "Query: childcare centers in lawton failed\n",
      "Query: drystore global failed\n",
      "Query: schedule for marchmadness failed\n",
      "Query: washingtonmutual failed\n",
      "Query: basketball camps for girls in san diego failed\n",
      "Query: c documentsandsettings allusers applicationdata applecumputer itunes scinfo failed\n",
      "Query: enjoy your day lyrics failed\n",
      "Query: la dodgers failed\n",
      "Query: 5-fluorouracil failed\n",
      "Query: orchids bombay species failed\n",
      "Query: kyle williford failed\n",
      "Query: santaanitaracing failed\n",
      "Query: statues failed\n",
      "Query: information on history failed\n",
      "Query: tourist attractions in seattle wa failed\n",
      "Query: aol plug in failed\n",
      "Query: beyonce failed\n",
      "Query: ivy queen song lyrics failed\n",
      "Query: johnny carrino's failed\n",
      "Query: leonardo da vinci failed\n",
      "Query: illinois escorts anal failed\n",
      "Query: grupo niche una aventura song lyrics failed\n",
      "Query: country club in grand prairie texas failed\n"
     ]
    },
    {
     "name": "stderr",
     "output_type": "stream",
     "text": [
      "[========                                                                ]  12%\r"
     ]
    },
    {
     "name": "stdout",
     "output_type": "stream",
     "text": [
      "Query: heirloom daffodil photo database failed\n",
      "Query: beautiful headhuntress failed\n",
      "Query: myspace failed\n",
      "Query: gnc failed\n",
      "Query: brokeback mountain failed\n",
      "Query: verizon prepaid failed\n",
      "Query: verizon wireless pix place failed\n",
      "Query: louisisana sales tax failed\n",
      "Query: butterfly tail goldfish failed\n",
      "Query: chicagol female escorts anal failed\n",
      "Query: mickelson failed\n",
      "Query: free titty fuck download full lenth movies failed\n",
      "Query: what is the probability that the value will fall within failed\n",
      "Query: utstats2004 failed\n",
      "Query: oops celebs failed\n",
      "Query: puritan typology failed\n",
      "Query: lily auction failed\n",
      "Query: free bridge downloads failed\n",
      "Query: renting in lawton oklahoma failed\n",
      "Query: espn final four bracket failed\n",
      "Query: guild war attribute quests failed\n",
      "Query: mustache styles galleries failed\n",
      "Query: panera bread failed\n",
      "Query: award for an officer and a gentleman failed\n",
      "Query: trial offer hellodirect failed\n",
      "Query: jamaican dicks failed\n",
      "Query: uc san diego website failed\n",
      "Query: bowen family of white county georgia failed\n",
      "Query: ssri timeline failed\n",
      "Query: hth chlorine failed\n",
      "Query: victoria secret failed\n",
      "Query: escorts by zip code failed\n",
      "Query: hot pussy failed\n"
     ]
    },
    {
     "name": "stderr",
     "output_type": "stream",
     "text": [
      "[=========                                                               ]  13%\r"
     ]
    },
    {
     "name": "stdout",
     "output_type": "stream",
     "text": [
      "Query: ny learner co failed\n",
      "Query: illinois escorts greek failed\n",
      "Query: honda mowers failed\n",
      "Query: apple imac failed\n",
      "Query: dave and busters coupon offers failed\n",
      "Query: urban outfitters in michigan failed\n",
      "Query: big white ass failed\n",
      "Query: ewperry draperies failed\n",
      "Query: victory ridge report failed\n",
      "Query: plan b controversy failed\n",
      "Query: against me lyrics failed\n",
      "Query: colorectal cancer post-surgical therapy failed\n",
      "Query: ut 2004 stats failed\n",
      "Query: catalina failed\n",
      "Query: coins failed\n",
      "Query: usgs failed\n",
      "Query: safari 1.3 mac download failed\n",
      "Query: morristownlibrary failed\n",
      "Query: dicountedwedding veils failed\n",
      "Query: en family cemetery transcription white county georgia failed\n",
      "Query: curtis lemay failed\n",
      "Query: pokecorner failed\n",
      "Query: joe senser's sports bar failed\n",
      "Query: gton mutual failed\n",
      "Query: check marks lyrics failed\n",
      "Query: install spyware failed\n",
      "Query: fort sill oklahoma apartments failed\n",
      "Query: six underground lyrics failed\n",
      "Query: last-minute trip failed\n",
      "Query: distance will increase the danger lyrics failed\n",
      "Query: aol american idol failed\n",
      "Query: property for sale in kenosha wisconsin failed\n",
      "Query: lamisi failed\n"
     ]
    },
    {
     "name": "stderr",
     "output_type": "stream",
     "text": [
      "[==========                                                              ]  14%\r"
     ]
    },
    {
     "name": "stdout",
     "output_type": "stream",
     "text": [
      "Query: air china airline schedule failed\n",
      "Query: south carolina education lottery failed\n",
      "Query: acid house kings lyrics failed\n",
      "Query: schiners iris failed\n",
      "Query: philadelphia inquirer thurs 02-23-06 william holloran failed\n",
      "Query: cooley failed\n",
      "Query: natural ear cleaning solution for dogs failed\n",
      "Query: dustin's passions page dustin's passions page failed\n",
      "Query: high fiber diet failed\n",
      "Query: fort wayne children's zoo failed\n",
      "Query: herb gardening failed\n",
      "Query: fx television channel failed\n",
      "Query: hot orgy sex failed\n",
      "Query: wekiva elemenetary failed\n",
      "Query: how to grow fast plants failed\n",
      "Query: car lyrics built to spil failed\n",
      "Query: mortgage company st. louis failed\n",
      "Query: keystone crossing mall failed\n",
      "Query: fitness management jobs in the dallas fort worth area failed\n",
      "Query: first community credit union st. louis failed\n",
      "Query: pomegranate juice failed\n",
      "Query: michigan teacher certification failed\n",
      "Query: isuzu auto parts failed\n",
      "Query: french dessert recipe failed\n",
      "Query: driving directions to coachella failed\n",
      "Query: facebook failed\n",
      "Query: dr deback choppra failed\n",
      "Query: carmel indiana failed\n",
      "Query: ultimate fighting la failed\n",
      "Query: cut stones failed\n",
      "Query: mary rowlandson failed\n",
      "Query: what monk armor should i get failed\n",
      "Query: characteristicsof 5-fluorouracil failed\n"
     ]
    },
    {
     "name": "stderr",
     "output_type": "stream",
     "text": [
      "[===========                                                             ]  15%\r"
     ]
    },
    {
     "name": "stdout",
     "output_type": "stream",
     "text": [
      "Query: aarp health ins. failed\n",
      "Query: christmas tree nursery missouri failed\n",
      "Query: cocaine failed\n",
      "Query: gen joseph hooker failed\n",
      "Query: wise trade failed\n",
      "Query: south carolina detention centers failed\n",
      "Query: eggs & butter narcissus failed\n",
      "Query: do it to it lyrics failed\n",
      "Query: dinking tea brings on asthma failed\n",
      "Query: simi valley town center failed\n",
      "Query: boris bagdasarian d.o. failed\n",
      "Query: docos night club failed\n",
      "Query: wilkes barre vamc credit union failed\n",
      "Query: storm watch failed\n",
      "Query: ufc championship failed\n",
      "Query: south carolina geography bee failed\n",
      "Query: geico failed\n",
      "Query: big bear mountain failed\n",
      "Query: mastercard gift cards failed\n",
      "Query: ultimate fighting in losangeles failed\n",
      "Query: croscill discontinued bedding failed\n",
      "Query: pr failed\n",
      "Query: career salaries failed\n",
      "Query: gieco motor club failed\n",
      "Query: location of liver failed\n",
      "Query: gilroy dispatch gilroy california failed\n",
      "Query: dragonite failed\n",
      "Query: california state board of nursing-lvn failed\n",
      "Query: eckards failed\n",
      "Query: len lyrics failed\n",
      "Query: block incoming email addresses failed\n",
      "Query: florida failed\n",
      "Query: carton network games failed\n"
     ]
    },
    {
     "name": "stderr",
     "output_type": "stream",
     "text": [
      "[===========                                                             ]  16%\r"
     ]
    },
    {
     "name": "stdout",
     "output_type": "stream",
     "text": [
      "Query: houston shipyard failed\n",
      "Query: funbrain failed\n",
      "Query: i wake to sleep and take my waking slow lyrics failed\n",
      "Query: chicago escort revue failed\n",
      "Query: fake tit mpegs failed\n",
      "Query: cristal mirror failed\n",
      "Query: aol plug in downloads failed\n",
      "Query: thehuns failed\n",
      "Query: guy gets ass fucked while fucking girl failed\n",
      "Query: bacholers in health administration failed\n",
      "Query: robert kiyosaki failed\n",
      "Query: stone hedge townhomes farmington ny failed\n",
      "Query: quorum mirror failed\n",
      "Query: cuny apply online failed\n",
      "Query: are math wizards smartest failed\n",
      "Query: johnson city tx wildflowers failed\n",
      "Query: prostitucion en colombia failed\n",
      "Query: alli fat blocker failed\n",
      "Query: cocaine use failed\n",
      "Query: eula village rentals in wailea failed\n",
      "Query: pat obrien failed\n",
      "Query: bed bath failed\n",
      "Query: presidential outlines failed\n",
      "Query: power of chaos joey the passion game for sale failed\n",
      "Query: south carolina dept. correction failed\n",
      "Query: bradco mcmillen failed\n",
      "Query: advantia failed\n",
      "Query: using the normal curve to find probability failed\n",
      "Query: information on reservemortgagein youngstown ohio failed\n",
      "Query: carolynclark failed\n",
      "Query: acid - base foods failed\n",
      "Query: new jersey state tax booklets failed\n",
      "Query: dana reeves dead failed\n"
     ]
    },
    {
     "name": "stderr",
     "output_type": "stream",
     "text": [
      "[============                                                            ]  17%\r"
     ]
    },
    {
     "name": "stdout",
     "output_type": "stream",
     "text": [
      "Query: nursing school failed\n",
      "Query: kaleidoscope quilts failed\n",
      "Query: create new screen name failed\n",
      "Query: polynesian tattoos failed\n",
      "Query: forest wood fishing failed\n",
      "Query: handjobs free videos failed\n",
      "Query: plus size fashion failed\n",
      "Query: jet blue failed\n",
      "Query: 2002 chrysler sebring con. failed\n",
      "Query: yes failed\n",
      "Query: daffodil images failed\n",
      "Query: verizon wireless pix palace failed\n",
      "Query: verizonwireless customer service failed\n",
      "Query: fort worth star telegram job section failed\n",
      "Query: fire red vs leaf green singles failed\n",
      "Query: compare vehicles failed\n",
      "Query: naked ceeleb ppics failed\n",
      "Query: guardian self storage mcdowell phoenix failed\n",
      "Query: weekend getaways failed\n",
      "Query: 2006 terry grantham kingfish tournament april failed\n",
      "Query: ohio northern basic requirements failed\n",
      "Query: the history of the telegraph failed\n",
      "Query: integrity music failed\n",
      "Query: star trac pro dealers failed\n",
      "Query: asthma causes failed\n",
      "Query: 9.0 upgrade failed\n",
      "Query: siempre en domingo failed\n",
      "Query: wailea marriott resort failed\n",
      "Query: escorts by zip code chicago failed\n",
      "Query: royce grazie failed\n",
      "Query: los angeles pottery incorporated failed\n",
      "Query: car top carriers failed\n",
      "Query: honua collection pet aloha shirt failed\n"
     ]
    },
    {
     "name": "stderr",
     "output_type": "stream",
     "text": [
      "[=============                                                           ]  18%\r"
     ]
    },
    {
     "name": "stdout",
     "output_type": "stream",
     "text": [
      "Query: just one more mouth full lyrics failed\n",
      "Query: benien tumor failed\n",
      "Query: information on domestic violence failed\n",
      "Query: airline reservations failed\n",
      "Query: the history telegram failed\n",
      "Query: star telegram failed\n",
      "Query: southpointe credit union st. louis failed\n",
      "Query: aol customer service phone number failed\n",
      "Query: archaebacteria examples failed\n",
      "Query: slow cooker reciepes failed\n",
      "Query: first ciommunion failed\n",
      "Query: regional manager positions in the health & fitness industry failed\n",
      "Query: michigan department of education failed\n",
      "Query: information on americanhistory failed\n",
      "Query: big boobs failed\n",
      "Query: photos for pursuit force failed\n",
      "Query: colorectal surgeons board certified pasadena failed\n",
      "Query: hawthorne suites folsom ca failed\n",
      "Query: television schedule failed\n",
      "Query: sheradon performance failed\n",
      "Query: map of maui failed\n",
      "Query: rakim y keny down song lyrics failed\n",
      "Query: st thomas sleeper sofa failed\n",
      "Query: spa international failed\n",
      "Query: the television show summerland failed\n",
      "Query: airborne gummi lozenges failed\n",
      "Query: dustin's passns paghe failed\n",
      "Query: msra virus failed\n",
      "Query: nba draft failed\n",
      "Query: roger dean stadium failed\n",
      "Query: brazil soccer coach name failed\n",
      "Query: child support worksheets failed\n",
      "Query: ssri history failed\n"
     ]
    },
    {
     "name": "stderr",
     "output_type": "stream",
     "text": [
      "[==============                                                          ]  19%\r"
     ]
    },
    {
     "name": "stdout",
     "output_type": "stream",
     "text": [
      "Query: brooklyn college failed\n",
      "Query: stephanie mcmahon thong pictures failed\n",
      "Query: elasticity of factor substitution failed\n",
      "Query: collegecandids failed\n",
      "Query: who gives citie of ascalon quest failed\n",
      "Query: math and genious failed\n",
      "Query: monster truuck clip failed\n",
      "Query: ncaa march madness failed\n",
      "Query: st. louis title failed\n",
      "Query: mind playing tricks on me lyrics failed\n",
      "Query: candida royale failed\n",
      "Query: brazil 2006 world cup team failed\n",
      "Query: barnes and noble failed\n",
      "Query: columbia park medical clinic failed\n",
      "Query: anaimal sex failed\n",
      "Query: financing solar energy for residential home failed\n",
      "Query: ana nicole smith naked failed\n",
      "Query: philly fishguys failed\n",
      "Query: bowen family sc. failed\n",
      "Query: sd& failed\n",
      "Query: teaching license exam failed\n",
      "Query: red leaf red bloom cannas failed\n",
      "Query: san jose tech museum failed\n",
      "Query: principles of microeconomics failed\n",
      "Query: fort sill oklahoma failed\n",
      "Query: beauty and the geek failed\n",
      "Query: sex offenders registration failed\n",
      "Query: asereth failed\n",
      "Query: photographs of doris duke failed\n",
      "Query: this temporary life lyrics failed\n",
      "Query: johnny carino's failed\n",
      "Query: herinated disc failed\n",
      "Query: first bank st. louis failed\n"
     ]
    },
    {
     "name": "stderr",
     "output_type": "stream",
     "text": [
      "[==============                                                          ]  20%\r"
     ]
    },
    {
     "name": "stdout",
     "output_type": "stream",
     "text": [
      "Query: county fair games failed\n",
      "Query: sdg failed\n",
      "Query: american outlaws failed\n",
      "Query: upper midwest master gardening conference failed\n",
      "Query: pennsylvania house failed\n",
      "Query: mediterranean villa in arlington texas failed\n",
      "Query: 1099 tax form failed\n",
      "Query: big boobs free failed\n",
      "Query: suntrust bank failed\n",
      "Query: wildtree herbs failed\n",
      "Query: heart transplant lyrics failed\n",
      "Query: iv fluid replacement equation failed\n",
      "Query: shepherd boy with sheep statue failed\n",
      "Query: verizon wireless failed\n",
      "Query: mapblast failed\n",
      "Query: myspace plus failed\n",
      "Query: america is just a word but i use it lyrics failed\n",
      "Query: day spas in the dallas fort worth area failed\n",
      "Query: strap on dildos failed\n",
      "Query: nursing school ny failed\n",
      "Query: daffodil pictures failed\n",
      "Query: educational hand held games for children failed\n",
      "Query: green day failed\n",
      "Query: bellechase in dallas failed\n",
      "Query: cuny codes failed\n",
      "Query: sample size failed\n",
      "Query: illegal aliens resources uses failed\n",
      "Query: simivallytc failed\n",
      "Query: pottery barn failed\n",
      "Query: world cup 2006 brazil team failed\n",
      "Query: albany area day spa failed\n",
      "Query: there's a coldest day in every year lyrics failed\n",
      "Query: ssi benefits for illegal aliens failed\n"
     ]
    },
    {
     "name": "stderr",
     "output_type": "stream",
     "text": [
      "[===============                                                         ]  21%\r"
     ]
    },
    {
     "name": "stdout",
     "output_type": "stream",
     "text": [
      "Query: mla formal outline failed\n",
      "Query: author rushdie failed\n",
      "Query: fox21 failed\n",
      "Query: honeymoon with mom failed\n",
      "Query: baby and toddler pool safety--for doors failed\n",
      "Query: mercator risk services failed\n",
      "Query: braineaters lyrics failed\n",
      "Query: steal my sunshine lyrics failed\n",
      "Query: williams creek baptist church in texas failed\n",
      "Query: nothnagle real estate failed\n",
      "Query: the end products of fat digestion failed\n",
      "Query: rubella failed\n",
      "Query: dr.john'scandies failed\n",
      "Query: how long will i live failed\n",
      "Query: jcpenny failed\n",
      "Query: aol spyware failed\n",
      "Query: nude teens free failed\n",
      "Query: deepak chopra failed\n",
      "Query: south carolina dention centers failed\n",
      "Query: irisine and plant failed\n",
      "Query: chicago revue failed\n",
      "Query: im so bright i wear my sunglasses at night failed\n",
      "Query: mohegansun failed\n",
      "Query: sunglasses at night lyrics failed\n",
      "Query: algebra - solving quadratic equations failed\n",
      "Query: sink florida sink lyrics failed\n",
      "Query: cross country auto club failed\n",
      "Query: para bread failed\n",
      "Query: eagle bank and trust st. louis failed\n",
      "Query: historic daffodils failed\n",
      "Query: new cholesterol lowering drugs with less side effects failed\n",
      "Query: seminole county corrections facility failed\n",
      "Query: book seller failed\n"
     ]
    },
    {
     "name": "stderr",
     "output_type": "stream",
     "text": [
      "[================                                                        ]  22%\r"
     ]
    },
    {
     "name": "stdout",
     "output_type": "stream",
     "text": [
      "Query: how do i put photos in my ipod failed\n",
      "Query: one way cruise trip from seattle to hawaii failed\n",
      "Query: kit fisto failed\n",
      "Query: staging classes in san jose failed\n",
      "Query: pictures of goatee failed\n",
      "Query: the vitamin shoppe failed\n",
      "Query: puritan typology mary rowlandson failed\n",
      "Query: domain failed\n",
      "Query: where is the adrenal alnd failed\n",
      "Query: neurontin or tegretol failed\n",
      "Query: jedi guardians single cards failed\n",
      "Query: liz witt failed\n",
      "Query: carolynclarkelementuryschool failed\n",
      "Query: jojo failed\n",
      "Query: weekend vactaions failed\n",
      "Query: naked celeb pics failed\n",
      "Query: southwest bank st. louis failed\n",
      "Query: cartoon network games failed\n",
      "Query: dynasty reunion failed\n",
      "Query: cartoon coloring pages failed\n",
      "Query: fisher failed\n",
      "Query: centurian battle tank failed\n",
      "Query: dumbjocks failed\n",
      "Query: tranvestite escort service failed\n",
      "Query: cowboy loving failed\n",
      "Query: butterfly fantail goldfish failed\n",
      "Query: zip program failed\n",
      "Query: colon cancer chemotherapy failed\n",
      "Query: who wrote 19 failed\n",
      "Query: what causes painful throat tightness failed\n",
      "Query: enon industries failed\n",
      "Query: list of names of texas realtors in the dallas area failed\n",
      "Query: cruisecon failed\n"
     ]
    },
    {
     "name": "stderr",
     "output_type": "stream",
     "text": [
      "[=================                                                       ]  23%\r"
     ]
    },
    {
     "name": "stdout",
     "output_type": "stream",
     "text": [
      "Query: hawthorne suites folsom rancho cardova failed\n",
      "Query: deathplace of napoleon failed\n",
      "Query: true believer the book failed\n",
      "Query: laker basketball failed\n",
      "Query: drug interactions failed\n",
      "Query: inventions in 1819 failed\n",
      "Query: towerrecords failed\n",
      "Query: pec injury failed\n",
      "Query: pokemon mighty beans failed\n",
      "Query: nutra systems failed\n",
      "Query: is phil jackson a true great coach failed\n",
      "Query: colorectal cancer stageing failed\n",
      "Query: clinical trials failed\n",
      "Query: triangles right angles failed\n",
      "Query: washington mutual failed\n",
      "Query: depressed teen poems failed\n",
      "Query: trialoffer helldirect failed\n",
      "Query: dr debock choppra failed\n",
      "Query: scotts speedygreen 3000 manual failed\n",
      "Query: john mayer lyrics failed\n",
      "Query: dana reeves failed\n",
      "Query: mewithout lyrics failed\n",
      "Query: jose maria torre failed\n",
      "Query: waterloo premium outlets failed\n",
      "Query: american express gift cards failed\n",
      "Query: colorectal cancer stageing treatment failed\n",
      "Query: alexander the great married what bactrian woman failed\n",
      "Query: hash pipe failed\n",
      "Query: modest mouse lyrics failed\n",
      "Query: peoria il weather failed\n",
      "Query: the best of italian super hits vol.1 failed\n",
      "Query: larchmont shore club failed\n",
      "Query: fred noye failed\n"
     ]
    },
    {
     "name": "stderr",
     "output_type": "stream",
     "text": [
      "[=================                                                       ]  24%\r"
     ]
    },
    {
     "name": "stdout",
     "output_type": "stream",
     "text": [
      "Query: per annum compounded failed\n",
      "Query: tellurium gold mines nevada failed\n",
      "Query: duke hieress failed\n",
      "Query: starry cybunny failed\n",
      "Query: jena jamisonb failed\n",
      "Query: dr. howard dds dalls texas failed\n",
      "Query: revenge of the sith toys failed\n",
      "Query: main street days naperville failed\n",
      "Query: youth sunday school failed\n",
      "Query: because every time we touch i get this feeling lyrics failed\n",
      "Query: williams creek baptist church failed\n",
      "Query: hot bisexual orgy failed\n",
      "Query: sandy point wahington property for sale failed\n",
      "Query: dallas sleep disorders failed\n",
      "Query: lotsof pokemon cards forsale failed\n",
      "Query: hostile pay failed\n",
      "Query: 3 7 field artillery soldier charged with murder failed\n",
      "Query: shuttle failed\n",
      "Query: orchid bombay species failed\n",
      "Query: where to purchase derma q-gel failed\n",
      "Query: add ani icon failed\n",
      "Query: picture of cassius failed\n",
      "Query: escort by zip code failed\n",
      "Query: mighty beanz single cards for sale failed\n",
      "Query: jt the brick failed\n",
      "Query: frank sinatra failed\n",
      "Query: photographs of chandi heffner failed\n",
      "Query: la quinta inn & suites in ocala florida failed\n",
      "Query: best actor oscar 1953 failed\n",
      "Query: why math failed\n",
      "Query: the most scare movies failed\n",
      "Query: condo failed\n",
      "Query: honda mower parts failed\n"
     ]
    },
    {
     "name": "stderr",
     "output_type": "stream",
     "text": [
      "[==================                                                      ]  25%\r"
     ]
    },
    {
     "name": "stdout",
     "output_type": "stream",
     "text": [
      "Query: call blocking 67 failed\n",
      "Query: dollzmainy failed\n",
      "Query: southern commercial bank st. louis failed\n",
      "Query: best mesmer armor failed\n",
      "Query: phil jackson failed\n",
      "Query: credit cards for people with bad credit failed\n",
      "Query: determine the sales level failed\n",
      "Query: patio door locks failed\n",
      "Query: worlds largest girlbang roman failed\n",
      "Query: isa song lyrics failed\n",
      "Query: uses for vitamin b-5 failed\n",
      "Query: greenville ohio zip code failed\n",
      "Query: michael jordan failed\n",
      "Query: jim marcotte failed\n",
      "Query: drinking tea brings on asthma failed\n",
      "Query: bed bath and beyond failed\n",
      "Query: muscle milk failed\n",
      "Query: mettallica black album failed\n",
      "Query: picture of caius cassius failed\n",
      "Query: landice treadmills failed\n",
      "Query: rental houses failed\n",
      "Query: serendipity thought of the day failed\n",
      "Query: christina millian failed\n",
      "Query: botanical gardens in central tx failed\n",
      "Query: jenna jameson sex failed\n",
      "Query: fair games failed\n",
      "Query: what is the first line to old yeller failed\n",
      "Query: volcano types failed\n",
      "Query: weak by jojo lyrics failed\n",
      "Query: cost of ear tubes failed\n",
      "Query: homemade spaghetti sauce failed\n",
      "Query: hollister failed\n",
      "Query: la vanguardia failed\n"
     ]
    },
    {
     "name": "stderr",
     "output_type": "stream",
     "text": [
      "[===================                                                     ]  26%\r"
     ]
    },
    {
     "name": "stdout",
     "output_type": "stream",
     "text": [
      "Query: towerrecords location failed\n",
      "Query: eagle bank st. louis failed\n",
      "Query: djj seminole county failed\n",
      "Query: military awards failed\n",
      "Query: pgrade 9.0 failed\n",
      "Query: motor clubs failed\n",
      "Query: revello water fountains failed\n",
      "Query: methanogen examples failed\n",
      "Query: mice of men summary failed\n",
      "Query: diet pills failed\n",
      "Query: port authority of ny and nj failed\n",
      "Query: the limited failed\n",
      "Query: what to eat with high blood pressure failed\n",
      "Query: indiana university failed\n",
      "Query: grace rivera failed\n",
      "Query: tattoo failed\n",
      "Query: houston map failed\n",
      "Query: sola sola failed\n",
      "Query: crate and barrel failed\n",
      "Query: plan b timeline failed\n",
      "Query: nt failed\n",
      "Query: bradco equip failed\n",
      "Query: adult friend finder failed\n",
      "Query: la dodgers baseball failed\n",
      "Query: orchid dracula species failed\n",
      "Query: jerry and lee katzoff failed\n",
      "Query: basketball scoreboard failed\n",
      "Query: how to know who visits your myspace profile failed\n",
      "Query: paul mccartney divorce failed\n",
      "Query: journalists salaries failed\n",
      "Query: free limewire 4.3 failed\n",
      "Query: insomnia symptoms failed\n",
      "Query: glycolytic pathway free energy failed\n"
     ]
    },
    {
     "name": "stderr",
     "output_type": "stream",
     "text": [
      "[===================                                                     ]  27%\r"
     ]
    },
    {
     "name": "stdout",
     "output_type": "stream",
     "text": [
      "Query: music videos archive failed\n",
      "Query: dana reeves dead age 44 failed\n",
      "Query: cocaine treatment failed\n",
      "Query: age aint nothing but a number by pretty ricky lyrics failed\n",
      "Query: michelle rodriguez failed\n",
      "Query: aloha shirts for dogs failed\n",
      "Query: cabins to rent in texas' failed\n",
      "Query: new york motor clubs failed\n",
      "Query: pawpaw garden markers failed\n",
      "Query: alien ware failed\n",
      "Query: alysee failed\n",
      "Query: abc schedule failed\n",
      "Query: solidago virgaurea failed\n",
      "Query: runaway lyrics cartel failed\n",
      "Query: legalservicesnj failed\n",
      "Query: jenny craig locations failed\n",
      "Query: who sings the song nineteen failed\n",
      "Query: what slopes do perpindicular lines form failed\n",
      "Query: sexual predators failed\n",
      "Query: acton adress by phone number failed\n",
      "Query: port authority bus information failed\n",
      "Query: wedding rings failed\n",
      "Query: no credit card no registration just porn free failed\n",
      "Query: daylily garden photos failed\n",
      "Query: jenkins failed\n",
      "Query: marcus brutus failed\n",
      "Query: dove failed\n",
      "Query: dhelkelia failed\n",
      "Query: fat ass galleries failed\n",
      "Query: dr. uscar oncologist glendale ca failed\n",
      "Query: ms. new booty lyrics failed\n",
      "Query: so what lyrics failed\n",
      "Query: danr electric long beach failed\n"
     ]
    },
    {
     "name": "stderr",
     "output_type": "stream",
     "text": [
      "[====================                                                    ]  28%\r"
     ]
    },
    {
     "name": "stdout",
     "output_type": "stream",
     "text": [
      "Query: sag harbor clothes failed\n"
     ]
    },
    {
     "name": "stderr",
     "output_type": "stream",
     "text": [
      "\n",
      "KeyboardInterrupt\n",
      "\n"
     ]
    }
   ],
   "source": [
    "queries = list(pd.read_csv(\"data/queries.csv\")[\"query\"])\n",
    "data = []\n",
    "from googlesearch import search\n",
    "\n",
    "bar = progressbar.ProgressBar(maxval=100,\n",
    "                              widgets=[progressbar.Bar('=', '[', ']'), ' ', progressbar.Percentage()])\n",
    "bar.start()\n",
    "for idx,query in enumerate(queries):\n",
    "    bar.update(idx*100/len(queries))\n",
    "    try:\n",
    "        for res in search(query):\n",
    "            if isinstance(res,str):\n",
    "                data.append({\"query\":query,\"link\":res})\n",
    "            else:\n",
    "                data.append({\"query\":query,\"link\":res.link})\n",
    "    except Exception as e:\n",
    "        print(f\"Query: {query} failed\")\n",
    "df = pd.DataFrame(data)\n",
    "df.to_csv(\"data/search_results.csv\",index=False)"
   ],
   "metadata": {
    "collapsed": false,
    "pycharm": {
     "name": "#%%\n"
    }
   }
  },
  {
   "cell_type": "code",
   "execution_count": null,
   "outputs": [],
   "source": [
    "data"
   ],
   "metadata": {
    "collapsed": false,
    "pycharm": {
     "name": "#%%\n"
    }
   }
  },
  {
   "cell_type": "code",
   "execution_count": 20,
   "outputs": [
    {
     "data": {
      "text/plain": "'[ ![HERITAGE VALLEY TREE FARM](/uploads/1/2/4/5/124519751/published/hvtf-logo-\\nhorz-wname2_1.png?1552186350) ](/)\\n\\n  * [ CHRISTMAS TREES ](/christmastrees.html)\\n\\n    * [ PLAN YOUR VISIT  ](/planyourvisit.html)\\n    * [ VARIETIES  ](http://www.heritagevalleytreefarm.com/christmastrees.html#Varieties)\\n    * [ REAL TREE BENEFITS  ](http://www.heritagevalleytreefarm.com/ChristmasTrees.html#TreeBenefits)\\n    * [ TREE CARE  ](/contact-847973.html)\\n\\n  * [ PECANS ](/pecans.html)\\n\\n    * [ WHERE TO BUY  ](http://www.heritagevalleytreefarm.com/pecans.html#wheretobuy)\\n    * [ STORAGE  ](http://www.heritagevalleytreefarm.com/pecans.html#PecanStorage)\\n    * [ NUTTY PECAN FACTS  ](http://www.heritagevalleytreefarm.com/pecans.html#NuttyPecanFacts)\\n\\n  * [ SHOP ](/shop.html)\\n  * [ ABOUT ](/about.html)\\n\\n    * [ HOURS and DIRECTIONS  ](/hoursanddirections.html)\\n    * [ FAQs  ](/faqs.html)\\n    * [ PHOTOGRAPHY  ](/photography.html)\\n    * [ OUR HISTORY  ](/ourstory.html)\\n    * [ CONTACT US  ](/contact.html)\\n\\n  * [ CHRISTMAS TREES ](/christmastrees.html)\\n\\n    * [ PLAN YOUR VISIT  ](/planyourvisit.html)\\n    * [ VARIETIES  ](http://www.heritagevalleytreefarm.com/christmastrees.html#Varieties)\\n    * [ REAL TREE BENEFITS  ](http://www.heritagevalleytreefarm.com/ChristmasTrees.html#TreeBenefits)\\n    * [ TREE CARE  ](/contact-847973.html)\\n\\n  * [ PECANS ](/pecans.html)\\n\\n    * [ WHERE TO BUY  ](http://www.heritagevalleytreefarm.com/pecans.html#wheretobuy)\\n    * [ STORAGE  ](http://www.heritagevalleytreefarm.com/pecans.html#PecanStorage)\\n    * [ NUTTY PECAN FACTS  ](http://www.heritagevalleytreefarm.com/pecans.html#NuttyPecanFacts)\\n\\n  * [ SHOP ](/shop.html)\\n  * [ ABOUT ](/about.html)\\n\\n    * [ HOURS and DIRECTIONS  ](/hoursanddirections.html)\\n    * [ FAQs  ](/faqs.html)\\n    * [ PHOTOGRAPHY  ](/photography.html)\\n    * [ OUR HISTORY  ](/ourstory.html)\\n    * [ CONTACT US  ](/contact.html)\\n\\n![Picture](/uploads/1/2/4/5/124519751/real_3_orig.png)\\n\\n## **FARM. FRESH. Fun.**\\n\\nHunt for the perfect tree, grab some farm grown pecans,  \\n\\u200band enjoy some family fun.\\n\\n## Head to the country for a REAL Christmas tree.\\n\\n[ HOURS and DIRECTIONS ](/hoursanddirections.html)\\n\\n* * *\\n\\nHeritage Valley Tree Farm puts on its traditional best at Christmas. The\\nfields are dotted with tagged Christmas trees and the log cabin farmhouse is\\ntrimmed with garland, wreaths and bows. Baskets are brimming with delicious\\nfarm grown pecans and the Christmas Shop glistens and glows. One of the finest\\nchoose and cut Christmas tree farms in the area, many families and friends\\nmake Heritage Valley Tree Farm part of their holiday tradition.\\n\\n* * *\\n\\n## DISCOVER OUR FARM\\n\\n[ ![Picture](/uploads/1/2/4/5/124519751/img-farmtreefield-1130x750_orig.jpg)\\n](/christmastrees.html)\\n\\n## **[CHRISTMAS TREES](/christmastrees.html)**\\n\\nChoose and cut a **REAL**  \\n[\\u200b\\u200b](/christmastrees.html)Christmas tree\\u200b from our farm fields.\\n\\n|\\n\\n[ ![Picture](/uploads/1/2/4/5/124519751/img-pecanswtree-4x3_orig.jpg)\\n](/pecans.html)\\n\\n## **[PECANS](/pecans.html)**\\n\\nTreat yourself to our delicious  \\n\\u200bMissouri farm grown pecans.\\n\\n|\\n\\n[ ![Picture](/uploads/1/2/4/5/124519751/img-cshop-hvtforn-1130x750_orig.jpg)\\n](/shop.html)\\n\\n## ******[CHRISTMAS SHOP](/shop.html)**\\n\\nBrowse ornaments and holiday  \\ndecor in our festive Christmas shop.  \\n  \\n---|---|---  \\n  \\n## **OUR ROOTS**\\n\\nThis 75-acre Missouri Century Farm has been owned by the same family for over\\n160 years. The first evergreen seedlings were planted in 1983 and a pecan\\norchard was established that same year as well. Tree growing has become a\\ntradition for this farm family as they look to celebrate their 31st season as\\na choose and cut Christmas tree farm. Situated just south of Washington,\\nMissouri, Heritage Valley invites you to experience its simple country\\nsetting.\\n\\n[ LEARN MORE ](/ourstory.html)\\n\\n|\\n\\n[ ![Picture](/uploads/1/2/4/5/124519751/img-treeplanting1_orig.jpg)\\n](/ourstory.html)  \\n  \\n---|---  \\n  \\n[ ![Picture](/uploads/1/2/4/5/124519751/editor/img-\\ngooglemap2_1.jpg?1565742181) ](https://goo.gl/maps/BaW2AhvRnXBJ7qCs6)\\n\\n|\\n\\n  \\n[\\u200b\\u200bChristmas Trees](/christmastrees.html)  \\n[Pecans](/pecans.html)  \\n[Shop](/shop.html)\\n\\n|\\n\\n  \\n[\\u200bPlan Your Visit](/planyourvisit.html)  \\n[Hours](/hoursanddirections.html)  \\n[\\u200bDirections  \\n\\u200b](/hoursanddirections.html)[\\u200b\\u200bFAQs](/faqs.html)  \\n  \\n\\n|\\n\\n  \\n[About the Farm](/about.html)  \\n[\\u200bOur Story](/ourstory.html)  \\n[\\u200b](/faqs.html)[Photography](/photography.html)  \\n\\u200b[Contact Us](/contact.html)\\n\\n|\\n\\n|\\n\\n![Picture](/uploads/1/2/4/5/124519751/editor/sq-logo-green_6.png?1565057639)  \\n  \\n---|---|---|---|---|---  \\n  \\n* * *\\n\\n[](//facebook.com/heritagevalleytreefarm)[](//twitter.com/hvtreefarm)[](//instagram.com/heritagevalleytreefarm)\\n\\n**(C) 2022 Heritage Valley Tree Farm LLC  \\n\\u200b**1668 Four Mile Road, Washington, MO 63090\\n\\n'"
     },
     "execution_count": 20,
     "metadata": {},
     "output_type": "execute_result"
    }
   ],
   "source": [
    "import html2text\n",
    "html2text.html2text(open(\"data/sample.html\",\"r+\").read())"
   ],
   "metadata": {
    "collapsed": false,
    "pycharm": {
     "name": "#%%\n"
    }
   }
  },
  {
   "cell_type": "code",
   "execution_count": 6,
   "outputs": [
    {
     "name": "stdout",
     "output_type": "stream",
     "text": [
      "A city built on water was always going to struggle with burials—especially when a deadly pandemic came to town.\n",
      "\n",
      "Regular excavations for public works in Saint Mark's Square have uncovered a lot of human burials in recent years. Fabrizio Falconi\n",
      "\n",
      "On a hot morning in August 2018, workers digging in front of Saint Mark’s Basilica in Venice to perform drain maintenance hit an unusually hard patch. They kept digging, and there was a skull, then some more bones. They halted work, and two fully articulated skeletons emerged, separated by a few inches of dirt.\n",
      "\n",
      "The work eventually resumed, but skeletons have continued to turn up in the famed square. In November 2021, small excavators at work in the northwest portion—part of an effort to install a protective glass barrier against high tide—encountered 20 dark-colored skulls and various other bones. In June 2022, the same area produced 15 skeletons, including one skull with unusually well-preserved white teeth. The installation of the protective glass structure was put on hold to allow state archaeologists, led by Sara Bini, to study the finds, which so far have been dated to between the 14th and 15th centuries.\n",
      "\n",
      "None of this is unusual for Venice. For centuries La Serenissima has struggled to make room for its dead.\n",
      "\n",
      "As a city built on water, space is at a premium in Venice. NASA/Tim Kopra, Public domain, via Wikimedia Commons\n",
      "\n",
      "“Venice, as a city built on water, had a space problem when it came to burials,” says Luigi Fozzati, who worked as lead underwater archaeologist for the local chapter of the Ministry of Culture for 20 years. Until 1804, when a law—from the then-ruler of Venice, Napoleon Bonaparte—banned burials within the city, Venetians used whatever limited space they could find in the city’s 117 islands. “People were buried within churches, outside of churches, and sometimes even in other parts of the city,” Fozzati says. Throughout the centuries, architects often had to build churches, piazzas, and palazzos on top of preexisting burial sites. “Whenever the government performs maintenance work on areas next to churches, I expect skeletons to pop up,” Fozzati says. This was probably the case in Saint Mark’s, where architects planned the famous square on top of a medieval cemetery.\n",
      "\n",
      "Multiple plagues hit the city over the centuries, creating a glut of bodies, further adding pressure to Venice’s burial capabilities. The Black Death of 1348 killed more than 50 million people across Europe, and an estimated 40,000 to 70,000 in Venice, then a city of just 100,000 residents.\n",
      "\n",
      "“Gatherings in restaurants and churches were prohibited and new rules about burials came into place,” says Fabio Zampieri, a medical historian at the University of Padua. “People who died from the plague had to be buried in uninhabited islands far from the city center to prevent contagion,” he continues, explaining that doctors in the 14th century believed that the plague could be transmitted by “vapors” emanating from dead bodies. During the nine-month pandemic, authorities struggled to fit up to 40 corpses per day on boats sent to designated islands at the outskirts of the city. The only exception was made for people from noble families, who could be still be buried in Venice—just under a lot of dirt.\n",
      "\n",
      "Many burials have been found on Lazzaretto Vecchio, and many more are believed to lie beneath its meadows. Powermelon/Wikimedia/CC 1.0\n",
      "\n",
      "During the second wave of plague, in 1423, the Venetian Senate took the concept of plague islands a step further. In 1424 authorities dedicated an island, Saint Mary of Nazareth, to plague patients for the first time. Afflicted patients were taken to the six-acre island, renamed Lazzaretto, for a 200-bed hospital where they could get care from friars from the Chiesa degli Eremitani, or Church of the Hermits. But as Zampieri says, there was no cure for the plague, so people were mostly taken there to die—away from the city center. The mortality rate for the bubonic plague was between 30 and 70 percent. Experts recently uncovered 1,500 skeletons buried on Lazzaretto, and believe that thousands more remain under the island’s green meadows.\n",
      "\n",
      "In 1468 another island, Lazzaretto Nuovo (New Lazzaretto, while the other was dubbed Lazzaretto Vecchio, or Old Lazzaretto), was designated as a place to keep patients recovering from the plague and to hold people entering Venice by boat. Both groups were kept there for 40 days to monitor the emergence of plague symptoms—quaranta giorni in Italian. As soon as someone showed symptoms, they were taken to Lazzaretto Vecchio, Zampieri says. We owe the term and practice of quarantine largely to this 15th-century public health measure.\n",
      "\n",
      "The third plague pandemic hit Venice from 1575 to 1577, claiming among its victims such high-profile Venetians as painter Titian and his son Oratium Vecellium. The death rate was as bad as the Black Death’s—about a third of Venetians—but the city’s population was almost double what it was at the time of the first plague in 1348. “In just two years bout 50,000 people died out of 180,000 inhabitants,” Zampieri says. “It was one of the worst pandemics that hit Venice.”\n",
      "\n",
      "This 1833 painting by Alexandre Hesse in the Louvre in Paris depicts the funeral rites of the painter Titian after his death from plague. agefotostock/Alamy\n",
      "\n",
      "Bodies buried on Lazzaretto Vecchio from prior to the early 15th century were wrapped in sheets and placed in rectangular trenches, in several distinct layers. Graves from later periods, by contrast, appear as piles of corpses hastily dropped on top of each other in large holes. As Vincenzo Gobbo, archaeologist at Ca’ Foscari University, told National Geographic, there was simply no time to take care of burials on a tiny island where as many as 500 people were dying each day.\n",
      "\n",
      "Within Venice the death toll was sometimes so high that authorities did not have enough time to transport remains out of the city, so they resorted to piling bodies underneath public squares. “If you look carefully at some squares in Venice, you’ll notice that the pavement in the central part of the square is taller than its surrounding by around 7 inches,” Fozzati says. That extra bit of pavement, Fozzati explains, is full of skeletons from the 16th-century plague.\n",
      "\n",
      "Indeed, pavement height in Venice is often dictated by plague graves. Traditional bookbinder and Venetian native Paolo Olbi says that Venetians learn this spooky fact as children. “Everybody knows that places like Campo Sant’Angelo or Campo Santo Stefano are full of bones,” he says. “If you step in the central part you are effectively walking over skeletons.”\n",
      "\n",
      "Campo Sant’Angelo in Venice is believed to contain any number of burials beneath its pavement. ChrisSampson87/Wikimedia/CC BY-SA 4.0\n",
      "\n",
      "“A law was passed mandating that people who died from the plague had to be covered by at least five feet of dirt,” Fozzati says. Sometimes, if authorities found that someone had been buried in a shallow grave, they would demand a reburial. During the fourth plague pandemic of 1630, the priest of the Church of San Simeon Grande had to lift the entire pavement up by five feet to comply with the law after authorities discovered that a priest already buried in the church had died from the plague.\n",
      "\n",
      "According to Fozzati, these relics of past pandemics often emerge during routine maintenance work, such as installing wires or water discharge tubes. During his 20-year career he has received many calls from engineers and plumbers who accidentally bumped into skulls or femurs.\n",
      "\n",
      "Italian laws on the preservation of cultural heritage mandate that workers who encounter archaeological material must notify state archaeologists. In the case of Saint Mark’s bones uncovered over the last four years, a team of experts led by the state archaeologist Sara Bini has been performing chemical analysis on the skeletons. “Right now we think that they probably were high-class people, since they were buried so close to the Basilica,” she says. “We are currently studying the remains to find out their sex, age, and any pathologies that they may have suffered from at time of death.” Last September, Bini and her team showcased the remains to the public to promote Venice’s archaeological heritage to locals.\n",
      "\n",
      "The Italian Ministry of Culture presented and is investigating some of the bones recently uncovered in Saint Mark’s Square. Courtesy Italian Ministry of Culture\n",
      "\n",
      "These expert interventions are necessary, even as they slow down infrastructure work. “Twenty years ago I remember reading a news story about two skeletons found floating around in the lagoon,” Fozzati says. “The police thought that they belonged to two girls who had disappeared earlier that year and took them to the police station.” Fozzati immediately called the police. “I told them to be careful when touching the bones as the plague bacteria can survive for centuries if a skeleton is buried in humid grounds,” he says. Later research confirmed that the skeletons were indeed from people who had died centuries earlier, probably during a plague.\n",
      "\n",
      "Skeletons and bones are not a rare sight in the marshy waters of the lagoon. “The erosion caused by motorboat waves can sometimes break the external structure of graves located near the canals,” Fozzati says, especially in the north part of the lagoon, where there are more boats. “Sometimes skeletons pop out of the graves and are found floating around by local fishermen.”\n",
      "\n",
      "This could be only the beginning, thanks to sea level rise and overtourism. “The number of motorboats currently allowed to circulate in the canals generates too much swell,” Fozzati says. “This is putting at risk the foundation of buildings, including graves.” It turns out that the crush of tourists Venice sees year-round affects the dead as well as the living.\n",
      "\n",
      "We depend on ad revenue to craft and curate stories about the world’s hidden wonders. Consider supporting our work by becoming a member for as little as $5 a month.\n",
      "\n",
      "Sign up for our newsletter and enter to win the second edition of our book, Atlas Obscura: An Explorer’s Guide to the World’s Hidden Wonders.\n",
      "\n",
      "No purchase necessary. Winner will be selected at random on 12/01/2022. Offer available only in the U.S. (including Puerto Rico). Offer subject to change without notice. See contest rules for full details.\n"
     ]
    }
   ],
   "source": [
    "from urllib.request import urlopen\n",
    "from bs4 import BeautifulSoup\n",
    "\n",
    "url = \"https://www.atlasobscura.com/articles/bones-and-skeletons-in-venice?utm_source=pocket-newtab-intl-en\"\n",
    "html = urlopen(url).read()\n",
    "\n",
    "soup = BeautifulSoup(html, features=\"html.parser\")\n",
    "\n",
    "# kill all script and style elements\n",
    "for script in soup([\"script\", \"style\"]):\n",
    "    script.extract()    # rip it out\n",
    "\n",
    "# get text\n",
    "text = soup.get_text()#separator=\"--@@@--\")\n",
    "\n",
    "# break into lines and remove leading and trailing space on each\n",
    "lines = (line.strip() for line in text.splitlines() if len(line)>100)\n",
    "# break multi-headlines into a line each\n",
    "chunks = (phrase.strip() for line in lines for phrase in line.split(\"  \"))\n",
    "# drop blank lines\n",
    "text = '\\n\\n'.join(chunk for chunk in chunks if chunk)\n",
    "\n",
    "print(text)"
   ],
   "metadata": {
    "collapsed": false,
    "pycharm": {
     "name": "#%%\n"
    }
   }
  },
  {
   "cell_type": "code",
   "execution_count": null,
   "outputs": [],
   "source": [],
   "metadata": {
    "collapsed": false,
    "pycharm": {
     "name": "#%%\n"
    }
   }
  }
 ],
 "metadata": {
  "kernelspec": {
   "display_name": "Python 3",
   "language": "python",
   "name": "python3"
  },
  "language_info": {
   "codemirror_mode": {
    "name": "ipython",
    "version": 2
   },
   "file_extension": ".py",
   "mimetype": "text/x-python",
   "name": "python",
   "nbconvert_exporter": "python",
   "pygments_lexer": "ipython2",
   "version": "2.7.6"
  }
 },
 "nbformat": 4,
 "nbformat_minor": 0
}